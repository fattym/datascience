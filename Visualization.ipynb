{
  "nbformat": 4,
  "nbformat_minor": 0,
  "metadata": {
    "colab": {
      "name": "Visualization.ipynb",
      "provenance": [],
      "collapsed_sections": []
    },
    "kernelspec": {
      "name": "python3",
      "display_name": "Python 3"
    }
  },
  "cells": [
    {
      "cell_type": "code",
      "metadata": {
        "colab": {
          "base_uri": "https://localhost:8080/",
          "height": 565
        },
        "id": "D2Nz14zJuPxd",
        "outputId": "6f036308-1343-4545-8c30-03b0cb4ad32d"
      },
      "source": [
        "import pandas\n",
        "import matplotlib.pyplot as plt\n",
        "\n",
        "students = pandas.read_csv('https://modcom.co.ke/data/datasets/school.csv')\n",
        "students\n"
      ],
      "execution_count": null,
      "outputs": [
        {
          "output_type": "execute_result",
          "data": {
            "text/html": [
              "<div>\n",
              "<style scoped>\n",
              "    .dataframe tbody tr th:only-of-type {\n",
              "        vertical-align: middle;\n",
              "    }\n",
              "\n",
              "    .dataframe tbody tr th {\n",
              "        vertical-align: top;\n",
              "    }\n",
              "\n",
              "    .dataframe thead th {\n",
              "        text-align: right;\n",
              "    }\n",
              "</style>\n",
              "<table border=\"1\" class=\"dataframe\">\n",
              "  <thead>\n",
              "    <tr style=\"text-align: right;\">\n",
              "      <th></th>\n",
              "      <th>ids</th>\n",
              "      <th>bday</th>\n",
              "      <th>enrolldate</th>\n",
              "      <th>expgradate</th>\n",
              "      <th>Rank</th>\n",
              "      <th>Major</th>\n",
              "      <th>Gender</th>\n",
              "      <th>Athlete</th>\n",
              "      <th>Height</th>\n",
              "      <th>Weight</th>\n",
              "      <th>Smoking</th>\n",
              "      <th>Sprint</th>\n",
              "      <th>MileMinDur</th>\n",
              "      <th>English</th>\n",
              "      <th>Reading</th>\n",
              "      <th>Math</th>\n",
              "      <th>Writing</th>\n",
              "      <th>State</th>\n",
              "      <th>LiveOnCampus</th>\n",
              "      <th>HowCommute</th>\n",
              "      <th>CommuteTime</th>\n",
              "      <th>SleepTime</th>\n",
              "      <th>StudyTime</th>\n",
              "    </tr>\n",
              "  </thead>\n",
              "  <tbody>\n",
              "    <tr>\n",
              "      <th>0</th>\n",
              "      <td>43783</td>\n",
              "      <td>3/22/1995</td>\n",
              "      <td>NaN</td>\n",
              "      <td>NaN</td>\n",
              "      <td>NaN</td>\n",
              "      <td>NaN</td>\n",
              "      <td>0.0</td>\n",
              "      <td>0</td>\n",
              "      <td>72.35</td>\n",
              "      <td>NaN</td>\n",
              "      <td>0.0</td>\n",
              "      <td>7.978</td>\n",
              "      <td>NaN</td>\n",
              "      <td>88.24</td>\n",
              "      <td>81.50</td>\n",
              "      <td>60.02</td>\n",
              "      <td>81.44</td>\n",
              "      <td>In state</td>\n",
              "      <td>1.0</td>\n",
              "      <td>NaN</td>\n",
              "      <td>NaN</td>\n",
              "      <td>7.0</td>\n",
              "      <td>1.0</td>\n",
              "    </tr>\n",
              "    <tr>\n",
              "      <th>1</th>\n",
              "      <td>20278</td>\n",
              "      <td>1/1/1995</td>\n",
              "      <td>NaN</td>\n",
              "      <td>NaN</td>\n",
              "      <td>NaN</td>\n",
              "      <td>Philosophy</td>\n",
              "      <td>0.0</td>\n",
              "      <td>0</td>\n",
              "      <td>70.66</td>\n",
              "      <td>179.20</td>\n",
              "      <td>0.0</td>\n",
              "      <td>8.004</td>\n",
              "      <td>0:06:21</td>\n",
              "      <td>89.45</td>\n",
              "      <td>85.25</td>\n",
              "      <td>70.19</td>\n",
              "      <td>73.27</td>\n",
              "      <td>NaN</td>\n",
              "      <td>1.0</td>\n",
              "      <td>NaN</td>\n",
              "      <td>NaN</td>\n",
              "      <td>5.0</td>\n",
              "      <td>2.0</td>\n",
              "    </tr>\n",
              "    <tr>\n",
              "      <th>2</th>\n",
              "      <td>20389</td>\n",
              "      <td>12/31/1994</td>\n",
              "      <td>NaN</td>\n",
              "      <td>NaN</td>\n",
              "      <td>NaN</td>\n",
              "      <td>NaN</td>\n",
              "      <td>0.0</td>\n",
              "      <td>0</td>\n",
              "      <td>70.68</td>\n",
              "      <td>198.52</td>\n",
              "      <td>0.0</td>\n",
              "      <td>NaN</td>\n",
              "      <td>0:07:00</td>\n",
              "      <td>96.73</td>\n",
              "      <td>86.88</td>\n",
              "      <td>71.20</td>\n",
              "      <td>84.24</td>\n",
              "      <td>In state</td>\n",
              "      <td>NaN</td>\n",
              "      <td>NaN</td>\n",
              "      <td>NaN</td>\n",
              "      <td>8.0</td>\n",
              "      <td>7.0</td>\n",
              "    </tr>\n",
              "    <tr>\n",
              "      <th>3</th>\n",
              "      <td>22820</td>\n",
              "      <td>12/1/1994</td>\n",
              "      <td>NaN</td>\n",
              "      <td>NaN</td>\n",
              "      <td>NaN</td>\n",
              "      <td>business administration</td>\n",
              "      <td>1.0</td>\n",
              "      <td>0</td>\n",
              "      <td>NaN</td>\n",
              "      <td>198.34</td>\n",
              "      <td>NaN</td>\n",
              "      <td>8.473</td>\n",
              "      <td>0:12:44</td>\n",
              "      <td>74.06</td>\n",
              "      <td>88.68</td>\n",
              "      <td>55.89</td>\n",
              "      <td>73.16</td>\n",
              "      <td>In state</td>\n",
              "      <td>1.0</td>\n",
              "      <td>NaN</td>\n",
              "      <td>NaN</td>\n",
              "      <td>2.0</td>\n",
              "      <td>6.0</td>\n",
              "    </tr>\n",
              "    <tr>\n",
              "      <th>4</th>\n",
              "      <td>24559</td>\n",
              "      <td>11/10/1994</td>\n",
              "      <td>NaN</td>\n",
              "      <td>NaN</td>\n",
              "      <td>NaN</td>\n",
              "      <td>NaN</td>\n",
              "      <td>1.0</td>\n",
              "      <td>1</td>\n",
              "      <td>67.43</td>\n",
              "      <td>128.17</td>\n",
              "      <td>2.0</td>\n",
              "      <td>NaN</td>\n",
              "      <td>0:06:25</td>\n",
              "      <td>82.61</td>\n",
              "      <td>77.30</td>\n",
              "      <td>65.52</td>\n",
              "      <td>80.45</td>\n",
              "      <td>Out of state</td>\n",
              "      <td>1.0</td>\n",
              "      <td>NaN</td>\n",
              "      <td>NaN</td>\n",
              "      <td>7.0</td>\n",
              "      <td>3.0</td>\n",
              "    </tr>\n",
              "    <tr>\n",
              "      <th>...</th>\n",
              "      <td>...</td>\n",
              "      <td>...</td>\n",
              "      <td>...</td>\n",
              "      <td>...</td>\n",
              "      <td>...</td>\n",
              "      <td>...</td>\n",
              "      <td>...</td>\n",
              "      <td>...</td>\n",
              "      <td>...</td>\n",
              "      <td>...</td>\n",
              "      <td>...</td>\n",
              "      <td>...</td>\n",
              "      <td>...</td>\n",
              "      <td>...</td>\n",
              "      <td>...</td>\n",
              "      <td>...</td>\n",
              "      <td>...</td>\n",
              "      <td>...</td>\n",
              "      <td>...</td>\n",
              "      <td>...</td>\n",
              "      <td>...</td>\n",
              "      <td>...</td>\n",
              "      <td>...</td>\n",
              "    </tr>\n",
              "    <tr>\n",
              "      <th>430</th>\n",
              "      <td>34021</td>\n",
              "      <td>7/18/1987</td>\n",
              "      <td>1-Aug-2011</td>\n",
              "      <td>08-May-2017</td>\n",
              "      <td>4.0</td>\n",
              "      <td>accounting</td>\n",
              "      <td>1.0</td>\n",
              "      <td>0</td>\n",
              "      <td>NaN</td>\n",
              "      <td>NaN</td>\n",
              "      <td>0.0</td>\n",
              "      <td>NaN</td>\n",
              "      <td>0:12:55</td>\n",
              "      <td>87.72</td>\n",
              "      <td>84.99</td>\n",
              "      <td>65.31</td>\n",
              "      <td>NaN</td>\n",
              "      <td>In state</td>\n",
              "      <td>0.0</td>\n",
              "      <td>1.0</td>\n",
              "      <td>18.0</td>\n",
              "      <td>1.0</td>\n",
              "      <td>10.0</td>\n",
              "    </tr>\n",
              "    <tr>\n",
              "      <th>431</th>\n",
              "      <td>40697</td>\n",
              "      <td>4/29/1987</td>\n",
              "      <td>1-Aug-2011</td>\n",
              "      <td>09-May-2016</td>\n",
              "      <td>4.0</td>\n",
              "      <td>NaN</td>\n",
              "      <td>0.0</td>\n",
              "      <td>0</td>\n",
              "      <td>68.50</td>\n",
              "      <td>131.92</td>\n",
              "      <td>0.0</td>\n",
              "      <td>9.125</td>\n",
              "      <td>0:08:33</td>\n",
              "      <td>91.01</td>\n",
              "      <td>86.87</td>\n",
              "      <td>70.25</td>\n",
              "      <td>82.67</td>\n",
              "      <td>In state</td>\n",
              "      <td>0.0</td>\n",
              "      <td>3.0</td>\n",
              "      <td>26.0</td>\n",
              "      <td>6.0</td>\n",
              "      <td>15.0</td>\n",
              "    </tr>\n",
              "    <tr>\n",
              "      <th>432</th>\n",
              "      <td>34272</td>\n",
              "      <td>NaN</td>\n",
              "      <td>1-Aug-2011</td>\n",
              "      <td>09-May-2016</td>\n",
              "      <td>4.0</td>\n",
              "      <td>nursing</td>\n",
              "      <td>0.0</td>\n",
              "      <td>1</td>\n",
              "      <td>68.10</td>\n",
              "      <td>130.07</td>\n",
              "      <td>0.0</td>\n",
              "      <td>NaN</td>\n",
              "      <td>NaN</td>\n",
              "      <td>81.05</td>\n",
              "      <td>85.76</td>\n",
              "      <td>58.16</td>\n",
              "      <td>81.87</td>\n",
              "      <td>NaN</td>\n",
              "      <td>0.0</td>\n",
              "      <td>3.0</td>\n",
              "      <td>29.0</td>\n",
              "      <td>6.0</td>\n",
              "      <td>10.0</td>\n",
              "    </tr>\n",
              "    <tr>\n",
              "      <th>433</th>\n",
              "      <td>33628</td>\n",
              "      <td>NaN</td>\n",
              "      <td>1-Aug-2011</td>\n",
              "      <td>08-May-2017</td>\n",
              "      <td>4.0</td>\n",
              "      <td>Nursing</td>\n",
              "      <td>1.0</td>\n",
              "      <td>1</td>\n",
              "      <td>69.27</td>\n",
              "      <td>157.26</td>\n",
              "      <td>2.0</td>\n",
              "      <td>6.905</td>\n",
              "      <td>0:08:26</td>\n",
              "      <td>75.59</td>\n",
              "      <td>85.97</td>\n",
              "      <td>66.84</td>\n",
              "      <td>79.35</td>\n",
              "      <td>In state</td>\n",
              "      <td>0.0</td>\n",
              "      <td>1.0</td>\n",
              "      <td>14.0</td>\n",
              "      <td>4.0</td>\n",
              "      <td>10.0</td>\n",
              "    </tr>\n",
              "    <tr>\n",
              "      <th>434</th>\n",
              "      <td>39298</td>\n",
              "      <td>NaN</td>\n",
              "      <td>1-Aug-2011</td>\n",
              "      <td>08-May-2017</td>\n",
              "      <td>4.0</td>\n",
              "      <td>NaN</td>\n",
              "      <td>1.0</td>\n",
              "      <td>1</td>\n",
              "      <td>66.68</td>\n",
              "      <td>152.33</td>\n",
              "      <td>1.0</td>\n",
              "      <td>6.233</td>\n",
              "      <td>0:07:13</td>\n",
              "      <td>75.65</td>\n",
              "      <td>77.24</td>\n",
              "      <td>60.24</td>\n",
              "      <td>75.23</td>\n",
              "      <td>In state</td>\n",
              "      <td>0.0</td>\n",
              "      <td>3.0</td>\n",
              "      <td>27.0</td>\n",
              "      <td>2.0</td>\n",
              "      <td>10.0</td>\n",
              "    </tr>\n",
              "  </tbody>\n",
              "</table>\n",
              "<p>435 rows × 23 columns</p>\n",
              "</div>"
            ],
            "text/plain": [
              "       ids        bday  enrolldate  ... CommuteTime  SleepTime StudyTime\n",
              "0    43783   3/22/1995         NaN  ...         NaN        7.0       1.0\n",
              "1    20278    1/1/1995         NaN  ...         NaN        5.0       2.0\n",
              "2    20389  12/31/1994         NaN  ...         NaN        8.0       7.0\n",
              "3    22820   12/1/1994         NaN  ...         NaN        2.0       6.0\n",
              "4    24559  11/10/1994         NaN  ...         NaN        7.0       3.0\n",
              "..     ...         ...         ...  ...         ...        ...       ...\n",
              "430  34021   7/18/1987  1-Aug-2011  ...        18.0        1.0      10.0\n",
              "431  40697   4/29/1987  1-Aug-2011  ...        26.0        6.0      15.0\n",
              "432  34272         NaN  1-Aug-2011  ...        29.0        6.0      10.0\n",
              "433  33628         NaN  1-Aug-2011  ...        14.0        4.0      10.0\n",
              "434  39298         NaN  1-Aug-2011  ...        27.0        2.0      10.0\n",
              "\n",
              "[435 rows x 23 columns]"
            ]
          },
          "metadata": {
            "tags": []
          },
          "execution_count": 1
        }
      ]
    },
    {
      "cell_type": "code",
      "metadata": {
        "colab": {
          "base_uri": "https://localhost:8080/"
        },
        "id": "FeA5cIW0tGQ6",
        "outputId": "e2e06380-e4a8-42af-f75a-608ee13746ed"
      },
      "source": [
        "print(students.isnull().sum())"
      ],
      "execution_count": null,
      "outputs": [
        {
          "output_type": "stream",
          "text": [
            "ids               0\n",
            "bday              8\n",
            "enrolldate       29\n",
            "expgradate       29\n",
            "Rank             29\n",
            "Major           159\n",
            "Gender            9\n",
            "Athlete           0\n",
            "Height           27\n",
            "Weight           59\n",
            "Smoking          24\n",
            "Sprint           61\n",
            "MileMinDur       43\n",
            "English          26\n",
            "Reading          10\n",
            "Math             13\n",
            "Writing          31\n",
            "State            27\n",
            "LiveOnCampus     21\n",
            "HowCommute      188\n",
            "CommuteTime     188\n",
            "SleepTime        32\n",
            "StudyTime        42\n",
            "dtype: int64\n"
          ],
          "name": "stdout"
        }
      ]
    },
    {
      "cell_type": "code",
      "metadata": {
        "colab": {
          "base_uri": "https://localhost:8080/"
        },
        "id": "5tw_97Zp1n3U",
        "outputId": "2141f2ad-2b35-4b6e-d9da-796b2254e155"
      },
      "source": [
        "# Fill empties   - categorical varibles\n",
        "students['Rank'].fillna(5, inplace=True)\n",
        "students['Gender'].fillna(2, inplace=True)\n",
        "students['Major'].fillna('Unknown', inplace=True)\n",
        "students['Smoking'].fillna(3, inplace=True)\n",
        "# repeat to check if above have been filled\n",
        "\n",
        "# Decode them \n",
        "students['Gender'].replace({0:'Male', 1:'Female',2:'Unknown'}, inplace=True)\n",
        "students['Rank'].replace({1:'Freshmen', 2:'Sophomore',3:'Junior', 4:'Senior',5:'Unknown'}, inplace=True)\n",
        "students['Smoking'].replace({0:'Non-Smoker', 1:'Past Smoker',2:'Current', 3:'Unknown'}, inplace=True)\n",
        "students['Athlete'].replace({0:'Non-Athlete', 1: 'Athelete'}, inplace=True)\n",
        "\n",
        "# For continous variables\n",
        "mean_math = students['Math'].mean()\n",
        "mean_reading = students['Reading'].mean()\n",
        "mean_writing = students['Writing'].mean()\n",
        "\n",
        "# fill empties\n",
        "students['Math'].fillna(mean_math, inplace=True)\n",
        "students['Reading'].fillna(mean_reading, inplace=True)\n",
        "students['Writing'].fillna(mean_writing, inplace=True)\n",
        "\n",
        "print(students.isnull().sum())"
      ],
      "execution_count": null,
      "outputs": [
        {
          "output_type": "stream",
          "text": [
            "ids               0\n",
            "bday              8\n",
            "enrolldate       29\n",
            "expgradate       29\n",
            "Rank              0\n",
            "Major             0\n",
            "Gender            0\n",
            "Athlete           0\n",
            "Height           27\n",
            "Weight           59\n",
            "Smoking           0\n",
            "Sprint           61\n",
            "MileMinDur       43\n",
            "English          26\n",
            "Reading           0\n",
            "Math              0\n",
            "Writing           0\n",
            "State            27\n",
            "LiveOnCampus     21\n",
            "HowCommute      188\n",
            "CommuteTime     188\n",
            "SleepTime        32\n",
            "StudyTime        42\n",
            "dtype: int64\n"
          ],
          "name": "stdout"
        }
      ]
    },
    {
      "cell_type": "code",
      "metadata": {
        "id": "SdlFyT7JNjUV"
      },
      "source": [
        ""
      ],
      "execution_count": null,
      "outputs": []
    },
    {
      "cell_type": "code",
      "metadata": {
        "colab": {
          "base_uri": "https://localhost:8080/",
          "height": 265
        },
        "id": "gTkCpVzGBghO",
        "outputId": "0aadc62e-e4f8-4cab-9a5a-6f029d47cced"
      },
      "source": [
        "import matplotlib.pyplot as plt\n",
        "\n",
        "_, ax  = plt.subplots()\n",
        "students.groupby(\"Smoking\").size().plot(kind='pie', autopct='%1.1f%%')\n",
        "ax.set_title(\"Students Major Distribution %\")\n",
        "ax.set_ylabel('')\n",
        "plt.show()"
      ],
      "execution_count": null,
      "outputs": [
        {
          "output_type": "display_data",
          "data": {
            "image/png": "[encoded data removed]",
            "text/plain": [
              "<Figure size 432x288 with 1 Axes>"
            ]
          },
          "metadata": {
            "tags": []
          }
        }
      ]
    },
    {
      "cell_type": "code",
      "metadata": {
        "colab": {
          "base_uri": "https://localhost:8080/",
          "height": 351
        },
        "id": "tmVDY6sTFfei",
        "outputId": "5ae06a6f-7d47-465d-8c5b-4217f9ae15c0"
      },
      "source": [
        "plt.style.use('ggplot')\n",
        "_, ax  = plt.subplots()\n",
        "students.groupby(\"Smoking\")['Math'].mean().plot(kind='bar', color = 'orange')\n",
        "ax.set_title(\"Avg Maths Score by Smoking\")\n",
        "ax.set_ylabel('Math Score')\n",
        "ax.set_xlabel('Smoking')\n",
        "\n",
        "plt.show()"
      ],
      "execution_count": null,
      "outputs": [
        {
          "output_type": "display_data",
          "data": {
            "image/png": "[encoded data removed]",
            "text/plain": [
              "<Figure size 432x288 with 1 Axes>"
            ]
          },
          "metadata": {
            "tags": []
          }
        }
      ]
    },
    {
      "cell_type": "code",
      "metadata": {
        "colab": {
          "base_uri": "https://localhost:8080/",
          "height": 411
        },
        "id": "o8AZlb8HHKw1",
        "outputId": "0223bdae-c3c1-4ce5-a4f4-d51a40e9b16a"
      },
      "source": [
        "plt.style.use('ggplot')\n",
        "students.groupby([\"Smoking\",\"Gender\",\"Athlete\"])['Math'].mean().unstack().plot(kind='bar',\n",
        "                                                                     stacked=False)\n",
        "plt.title(\"Avg Maths Score by Smoking\")\n",
        "plt.ylabel('Math Score')\n",
        "plt.xlabel('Smoking')\n",
        "\n",
        "plt.show()"
      ],
      "execution_count": null,
      "outputs": [
        {
          "output_type": "display_data",
          "data": {
            "image/png": "[encoded data removed]",
            "text/plain": [
              "<Figure size 432x288 with 1 Axes>"
            ]
          },
          "metadata": {
            "tags": []
          }
        }
      ]
    },
    {
      "cell_type": "code",
      "metadata": {
        "colab": {
          "base_uri": "https://localhost:8080/",
          "height": 581
        },
        "id": "oTEdPaxeLNYs",
        "outputId": "69fb48d9-ebaa-441c-d57c-32e5773d6ec4"
      },
      "source": [
        "plt.style.use('ggplot')\n",
        "_, ax  = plt.subplots()\n",
        "ax.hist(students['Math'], color = 'green')\n",
        "ax.set_title(\"Distribution of Maths vs Freq\")\n",
        "ax.set_ylabel('Freq')\n",
        "ax.set_xlabel('Math')\n",
        "plt.show()\n",
        "#  --------------------\n",
        "plt.style.use('ggplot')\n",
        "_, ax  = plt.subplots()\n",
        "ax.scatter(students['Math'], students['English'], color = 'green')\n",
        "ax.set_title(\"Distribution of Maths vs Freq\")\n",
        "ax.set_ylabel('English')\n",
        "ax.set_xlabel('Math')\n",
        "plt.show()\n"
      ],
      "execution_count": null,
      "outputs": [
        {
          "output_type": "display_data",
          "data": {
            "image/png": "[encoded data removed]",
            "text/plain": [
              "<Figure size 432x288 with 1 Axes>"
            ]
          },
          "metadata": {
            "tags": []
          }
        },
        {
          "output_type": "display_data",
          "data": {
            "image/png": "[encoded data removed]",
            "text/plain": [
              "<Figure size 432x288 with 1 Axes>"
            ]
          },
          "metadata": {
            "tags": []
          }
        }
      ]
    },
    {
      "cell_type": "code",
      "metadata": {
        "id": "D4JG-O9jNlLG"
      },
      "source": [
        "#  Fill empties for SleepTime, StudyTime, HowCommute, Height, Weight, \n",
        "#  Create 5 more plots using the above fields\n",
        "\n",
        "# Cluster the students by their performance \n",
        "# For Clustering use Reading, Math, Writing, English.\n",
        "# Come up and explain 5 clusters\n",
        "\n"
      ],
      "execution_count": null,
      "outputs": []
    }
  ]
}